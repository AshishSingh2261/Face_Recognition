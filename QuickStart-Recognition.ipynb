{
 "cells": [
  {
   "cell_type": "code",
   "execution_count": 1,
   "id": "essential-zealand",
   "metadata": {},
   "outputs": [],
   "source": [
    "import cv2\n",
    "#import mtcnn\n",
    "from PIL import Image\n",
    "from numpy import asarray,expand_dims\n",
    "import numpy as np\n",
    "import tensorflow as tf\n",
    "from os import listdir\n",
    "from os.path import isdir\n",
    "from sklearn.preprocessing import LabelEncoder\n",
    "from sklearn.preprocessing import Normalizer\n",
    "from sklearn.svm import SVC\n",
    "from tensorflow.keras.models import load_model \n",
    "import warnings\n",
    "warnings.filterwarnings(\"ignore\")"
   ]
  },
  {
   "cell_type": "code",
   "execution_count": 2,
   "id": "applicable-overview",
   "metadata": {},
   "outputs": [
    {
     "name": "stdout",
     "output_type": "stream",
     "text": [
      "WARNING:tensorflow:No training configuration found in save file: the model was *not* compiled. Compile it manually.\n"
     ]
    }
   ],
   "source": [
    "facenet = load_model('facenet_keras.h5')\n",
    "facenet.load_weights('facenet_keras_weights.h5')"
   ]
  },
  {
   "cell_type": "code",
   "execution_count": 3,
   "id": "dramatic-harmony",
   "metadata": {},
   "outputs": [],
   "source": [
    "def get_embedding(model, face_pixels):\n",
    "    face_pixels = face_pixels.astype('float32')\n",
    "    mean, std = face_pixels.mean(), face_pixels.std()\n",
    "    face_pixels = (face_pixels - mean) / std\n",
    "    samples = expand_dims(face_pixels, axis=0)\n",
    "    yhat = model.predict(samples)\n",
    "    return yhat[0]"
   ]
  },
  {
   "cell_type": "code",
   "execution_count": 4,
   "id": "generic-adaptation",
   "metadata": {},
   "outputs": [],
   "source": [
    "from joblib import dump,load\n",
    "model = load('SVC_model.joblib')\n",
    "encoder = load('OHE.joblib')\n",
    "norm = load('Normalizer.joblib')"
   ]
  },
  {
   "cell_type": "code",
   "execution_count": 5,
   "id": "constitutional-telephone",
   "metadata": {},
   "outputs": [],
   "source": [
    "cvNet = cv2.dnn.readNetFromCaffe('architecture.txt','weights.caffemodel')\n",
    "cap = cv2.VideoCapture(0)\n",
    "\n",
    "img_size = 160\n",
    "while True: \n",
    "    \n",
    "    ret, frame = cap.read()\n",
    "    \n",
    "    (h, w) = frame.shape[:2]\n",
    "    try:\n",
    "        blob = cv2.dnn.blobFromImage(cv2.resize(frame, (300,300)), 1.0, (300, 300), (104.0, 177.0, 123.0))\n",
    "    except:\n",
    "        pass\n",
    "    cvNet.setInput(blob)\n",
    "    detections = cvNet.forward()\n",
    "    \n",
    "    \n",
    "    if detections != []:\n",
    "        for i in range(0, detections.shape[2]):\n",
    "            box = detections[0, 0, i, 3:7] * np.array([w, h, w, h])\n",
    "            (startX, startY, endX, endY) = box.astype(\"int\")\n",
    "            image = frame[startY:endY, startX:endX]\n",
    "            confidence = detections[0, 0, i, 2]\n",
    "            \n",
    "            if confidence > 0.99:\n",
    "                try:\n",
    "                    im = cv2.resize(image,(img_size,img_size))\n",
    "                except:\n",
    "                    pass\n",
    "                im = np.array(im)/255.0\n",
    "                im = im.reshape(160,160,3)\n",
    "                face_array = asarray(im)\n",
    "                \n",
    "                embed = get_embedding(facenet,face_array)\n",
    "            \n",
    "                embed = expand_dims(embed,axis=0)\n",
    "                embed = norm.transform(embed)\n",
    "                yhat_class = model.predict(embed)\n",
    "                yhat_prob = model.predict_proba(embed)\n",
    "                predict_names = encoder.inverse_transform(yhat_class)\n",
    "                \n",
    "                cv2.rectangle(frame, (startX, startY), (endX, endY), (0, 0, 255), 2)\n",
    "                cv2.putText(frame, \"Face : \" + str(predict_names[0]), (startX, startY-50),\n",
    "                        cv2.FONT_HERSHEY_PLAIN, 1.5, (0, 255, 0), 2)\n",
    "                cv2.putText(frame, \"Prob : \" + str(round(max(yhat_prob[0])*100)), (startX, startY-20),\n",
    "                        cv2.FONT_HERSHEY_PLAIN, 1.5, (0, 255, 0), 2)\n",
    "    \n",
    "    \n",
    "    cv2.imshow('frame',frame)\n",
    "    if cv2.waitKey(1) &0xFF == ord('q'):\n",
    "        break\n",
    "\n",
    "cap.release()\n",
    "cv2.destroyAllWindows()"
   ]
  },
  {
   "cell_type": "code",
   "execution_count": null,
   "id": "incorrect-wallace",
   "metadata": {},
   "outputs": [],
   "source": []
  }
 ],
 "metadata": {
  "kernelspec": {
   "display_name": "facereg",
   "language": "python",
   "name": "facereg"
  },
  "language_info": {
   "codemirror_mode": {
    "name": "ipython",
    "version": 3
   },
   "file_extension": ".py",
   "mimetype": "text/x-python",
   "name": "python",
   "nbconvert_exporter": "python",
   "pygments_lexer": "ipython3",
   "version": "3.6.13"
  }
 },
 "nbformat": 4,
 "nbformat_minor": 5
}
